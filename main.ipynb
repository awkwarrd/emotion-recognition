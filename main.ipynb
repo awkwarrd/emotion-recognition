{
 "cells": [
  {
   "cell_type": "markdown",
   "metadata": {},
   "source": [
    "# Facial Emotions Recognition\n",
    "\n",
    "Project is in progress"
   ]
  },
  {
   "cell_type": "code",
   "execution_count": 1,
   "metadata": {},
   "outputs": [],
   "source": [
    "import tensorflow as tf\n",
    "\n",
    "tf.config.list_physical_devices(\"GPU\")\n",
    "\n",
    "tf.config.set_soft_device_placement(True)"
   ]
  },
  {
   "cell_type": "markdown",
   "metadata": {},
   "source": [
    "### Imports"
   ]
  },
  {
   "cell_type": "code",
   "execution_count": 2,
   "metadata": {},
   "outputs": [],
   "source": [
    "import pandas as pd\n",
    "import numpy as np\n",
    "\n",
    "import matplotlib.pyplot as plt\n",
    "\n",
    "import tensorflow as tf\n",
    "from keras.utils.image_utils import load_img, img_to_array\n",
    "\n",
    "from os import listdir"
   ]
  },
  {
   "cell_type": "markdown",
   "metadata": {},
   "source": [
    "### Importing Train and Test sets"
   ]
  },
  {
   "cell_type": "code",
   "execution_count": 3,
   "metadata": {},
   "outputs": [
    {
     "data": {
      "text/plain": [
       "['angry', 'disgust', 'fear', 'happy', 'neutral', 'sad', 'surprise']"
      ]
     },
     "execution_count": 3,
     "metadata": {},
     "output_type": "execute_result"
    }
   ],
   "source": [
    "listdir(\"images/train\")"
   ]
  },
  {
   "cell_type": "code",
   "execution_count": 4,
   "metadata": {},
   "outputs": [
    {
     "data": {
      "text/html": [
       "<div>\n",
       "<style scoped>\n",
       "    .dataframe tbody tr th:only-of-type {\n",
       "        vertical-align: middle;\n",
       "    }\n",
       "\n",
       "    .dataframe tbody tr th {\n",
       "        vertical-align: top;\n",
       "    }\n",
       "\n",
       "    .dataframe thead th {\n",
       "        text-align: right;\n",
       "    }\n",
       "</style>\n",
       "<table border=\"1\" class=\"dataframe\">\n",
       "  <thead>\n",
       "    <tr style=\"text-align: right;\">\n",
       "      <th></th>\n",
       "      <th>image</th>\n",
       "      <th>emotion</th>\n",
       "    </tr>\n",
       "  </thead>\n",
       "  <tbody>\n",
       "    <tr>\n",
       "      <th>0</th>\n",
       "      <td>images\\images\\train\\angry\\0.jpg</td>\n",
       "      <td>0</td>\n",
       "    </tr>\n",
       "    <tr>\n",
       "      <th>1</th>\n",
       "      <td>images\\images\\train\\angry\\1.jpg</td>\n",
       "      <td>0</td>\n",
       "    </tr>\n",
       "    <tr>\n",
       "      <th>2</th>\n",
       "      <td>images\\images\\train\\angry\\10.jpg</td>\n",
       "      <td>0</td>\n",
       "    </tr>\n",
       "    <tr>\n",
       "      <th>3</th>\n",
       "      <td>images\\images\\train\\angry\\10002.jpg</td>\n",
       "      <td>0</td>\n",
       "    </tr>\n",
       "    <tr>\n",
       "      <th>4</th>\n",
       "      <td>images\\images\\train\\angry\\10016.jpg</td>\n",
       "      <td>0</td>\n",
       "    </tr>\n",
       "  </tbody>\n",
       "</table>\n",
       "</div>"
      ],
      "text/plain": [
       "                                 image  emotion\n",
       "0      images\\images\\train\\angry\\0.jpg        0\n",
       "1      images\\images\\train\\angry\\1.jpg        0\n",
       "2     images\\images\\train\\angry\\10.jpg        0\n",
       "3  images\\images\\train\\angry\\10002.jpg        0\n",
       "4  images\\images\\train\\angry\\10016.jpg        0"
      ]
     },
     "execution_count": 4,
     "metadata": {},
     "output_type": "execute_result"
    }
   ],
   "source": [
    "emotion_map = {\"angry\" : 0, \"disgust\" : 1, \"fear\" : 2, \"happy\": 3, \"neutral\": 4, \"sad\" : 5, \"surprise\" : 6}\n",
    "\n",
    "train_data = {\"image\" : [], \"emotion\" : []}\n",
    "\n",
    "\n",
    "for emotion in listdir(\"images\\\\images\\\\train\"):\n",
    "    emotion_type = emotion_map[emotion]\n",
    "    emotion_dir = \"images\\\\images\\\\train\\\\\" + emotion + \"\\\\\"\n",
    "    for image_name in listdir(emotion_dir):\n",
    "        image_path = emotion_dir + image_name\n",
    "        train_data[\"image\"].append(image_path)\n",
    "        train_data[\"emotion\"].append(emotion_type)\n",
    "        \n",
    "        \n",
    "train_df = pd.DataFrame(train_data)\n",
    "\n",
    "train_df.to_csv(\"train_df.csv\")\n",
    "\n",
    "train_df.head()"
   ]
  },
  {
   "cell_type": "code",
   "execution_count": 5,
   "metadata": {},
   "outputs": [
    {
     "data": {
      "text/html": [
       "<div>\n",
       "<style scoped>\n",
       "    .dataframe tbody tr th:only-of-type {\n",
       "        vertical-align: middle;\n",
       "    }\n",
       "\n",
       "    .dataframe tbody tr th {\n",
       "        vertical-align: top;\n",
       "    }\n",
       "\n",
       "    .dataframe thead th {\n",
       "        text-align: right;\n",
       "    }\n",
       "</style>\n",
       "<table border=\"1\" class=\"dataframe\">\n",
       "  <thead>\n",
       "    <tr style=\"text-align: right;\">\n",
       "      <th></th>\n",
       "      <th>image</th>\n",
       "      <th>emotion</th>\n",
       "    </tr>\n",
       "  </thead>\n",
       "  <tbody>\n",
       "    <tr>\n",
       "      <th>0</th>\n",
       "      <td>images\\images\\validation\\angry\\10052.jpg</td>\n",
       "      <td>0</td>\n",
       "    </tr>\n",
       "    <tr>\n",
       "      <th>1</th>\n",
       "      <td>images\\images\\validation\\angry\\10065.jpg</td>\n",
       "      <td>0</td>\n",
       "    </tr>\n",
       "    <tr>\n",
       "      <th>2</th>\n",
       "      <td>images\\images\\validation\\angry\\10079.jpg</td>\n",
       "      <td>0</td>\n",
       "    </tr>\n",
       "    <tr>\n",
       "      <th>3</th>\n",
       "      <td>images\\images\\validation\\angry\\10095.jpg</td>\n",
       "      <td>0</td>\n",
       "    </tr>\n",
       "    <tr>\n",
       "      <th>4</th>\n",
       "      <td>images\\images\\validation\\angry\\10121.jpg</td>\n",
       "      <td>0</td>\n",
       "    </tr>\n",
       "  </tbody>\n",
       "</table>\n",
       "</div>"
      ],
      "text/plain": [
       "                                      image  emotion\n",
       "0  images\\images\\validation\\angry\\10052.jpg        0\n",
       "1  images\\images\\validation\\angry\\10065.jpg        0\n",
       "2  images\\images\\validation\\angry\\10079.jpg        0\n",
       "3  images\\images\\validation\\angry\\10095.jpg        0\n",
       "4  images\\images\\validation\\angry\\10121.jpg        0"
      ]
     },
     "execution_count": 5,
     "metadata": {},
     "output_type": "execute_result"
    }
   ],
   "source": [
    "test_data = {\"image\" : [], \"emotion\" : []}\n",
    "\n",
    "\n",
    "for emotion in listdir(\"images\\\\images\\\\validation\"):\n",
    "    emotion_type = emotion_map[emotion]\n",
    "    emotion_dir = \"images\\\\images\\\\validation\\\\\" + emotion + \"\\\\\"\n",
    "    for image_name in listdir(emotion_dir):\n",
    "        image_path = emotion_dir + image_name\n",
    "        test_data[\"image\"].append(image_path)\n",
    "        test_data[\"emotion\"].append(emotion_type)\n",
    "        \n",
    "        \n",
    "test_df = pd.DataFrame(test_data)\n",
    "\n",
    "test_df.to_csv(\"test_df.csv\")\n",
    "\n",
    "test_df.head()"
   ]
  },
  {
   "cell_type": "markdown",
   "metadata": {},
   "source": [
    "### EDA"
   ]
  },
  {
   "cell_type": "code",
   "execution_count": 6,
   "metadata": {},
   "outputs": [],
   "source": [
    "train_df = pd.read_csv(\"train_df.csv\", index_col=0)\n",
    "test_df = pd.read_csv(\"test_df.csv\", index_col=0)"
   ]
  },
  {
   "cell_type": "code",
   "execution_count": 7,
   "metadata": {},
   "outputs": [
    {
     "data": {
      "text/plain": [
       "emotion\n",
       "3    7164\n",
       "4    4982\n",
       "5    4938\n",
       "2    4103\n",
       "0    3993\n",
       "6    3205\n",
       "1     436\n",
       "Name: count, dtype: int64"
      ]
     },
     "execution_count": 7,
     "metadata": {},
     "output_type": "execute_result"
    }
   ],
   "source": [
    "train_df[\"emotion\"].value_counts()"
   ]
  },
  {
   "cell_type": "code",
   "execution_count": 8,
   "metadata": {},
   "outputs": [
    {
     "data": {
      "text/plain": [
       "emotion\n",
       "3    1825\n",
       "4    1216\n",
       "5    1139\n",
       "2    1018\n",
       "0     960\n",
       "6     797\n",
       "1     111\n",
       "Name: count, dtype: int64"
      ]
     },
     "execution_count": 8,
     "metadata": {},
     "output_type": "execute_result"
    }
   ],
   "source": [
    "test_df[\"emotion\"].value_counts()"
   ]
  },
  {
   "cell_type": "code",
   "execution_count": 9,
   "metadata": {},
   "outputs": [
    {
     "data": {
      "text/plain": [
       "emotion\n",
       "3    7164\n",
       "4    4982\n",
       "5    4938\n",
       "2    4103\n",
       "0    3993\n",
       "6    3205\n",
       "1     436\n",
       "Name: count, dtype: int64"
      ]
     },
     "execution_count": 9,
     "metadata": {},
     "output_type": "execute_result"
    }
   ],
   "source": [
    "train_df[\"emotion\"].value_counts()  "
   ]
  },
  {
   "cell_type": "markdown",
   "metadata": {},
   "source": [
    "### Preprocessing"
   ]
  },
  {
   "cell_type": "code",
   "execution_count": 10,
   "metadata": {},
   "outputs": [
    {
     "data": {
      "text/plain": [
       "0        [[[72.0, 72.0, 72.0], [78.0, 78.0, 78.0], [81....\n",
       "1        [[[152.0, 152.0, 152.0], [149.0, 149.0, 149.0]...\n",
       "2        [[[29.0, 29.0, 29.0], [25.0, 25.0, 25.0], [21....\n",
       "3        [[[32.0, 32.0, 32.0], [23.0, 23.0, 23.0], [20....\n",
       "4        [[[222.0, 222.0, 222.0], [218.0, 218.0, 218.0]...\n",
       "                               ...                        \n",
       "28816    [[[0.0, 0.0, 0.0], [0.0, 0.0, 0.0], [0.0, 0.0,...\n",
       "28817    [[[130.0, 130.0, 130.0], [134.0, 134.0, 134.0]...\n",
       "28818    [[[243.0, 243.0, 243.0], [220.0, 220.0, 220.0]...\n",
       "28819    [[[253.0, 253.0, 253.0], [252.0, 252.0, 252.0]...\n",
       "28820    [[[213.0, 213.0, 213.0], [218.0, 218.0, 218.0]...\n",
       "Name: image_array, Length: 28821, dtype: object"
      ]
     },
     "execution_count": 10,
     "metadata": {},
     "output_type": "execute_result"
    }
   ],
   "source": [
    "train_df[\"image_array\"] = train_df[\"image\"].apply(lambda x : img_to_array(load_img(x)))\n",
    "train_df[\"image_array\"]"
   ]
  },
  {
   "cell_type": "code",
   "execution_count": 11,
   "metadata": {},
   "outputs": [
    {
     "data": {
      "text/plain": [
       "0       [[[58.0, 58.0, 58.0], [66.0, 66.0, 66.0], [70....\n",
       "1       [[[23.0, 23.0, 23.0], [26.0, 26.0, 26.0], [21....\n",
       "2       [[[201.0, 201.0, 201.0], [182.0, 182.0, 182.0]...\n",
       "3       [[[93.0, 93.0, 93.0], [86.0, 86.0, 86.0], [78....\n",
       "4       [[[11.0, 11.0, 11.0], [6.0, 6.0, 6.0], [1.0, 1...\n",
       "                              ...                        \n",
       "7061    [[[255.0, 255.0, 255.0], [253.0, 253.0, 253.0]...\n",
       "7062    [[[84.0, 84.0, 84.0], [71.0, 71.0, 71.0], [70....\n",
       "7063    [[[250.0, 250.0, 250.0], [253.0, 253.0, 253.0]...\n",
       "7064    [[[228.0, 228.0, 228.0], [224.0, 224.0, 224.0]...\n",
       "7065    [[[78.0, 78.0, 78.0], [116.0, 116.0, 116.0], [...\n",
       "Name: image_array, Length: 7066, dtype: object"
      ]
     },
     "execution_count": 11,
     "metadata": {},
     "output_type": "execute_result"
    }
   ],
   "source": [
    "test_df[\"image_array\"] = test_df[\"image\"].apply(lambda x : img_to_array(load_img(x)))\n",
    "test_df[\"image_array\"]"
   ]
  },
  {
   "cell_type": "markdown",
   "metadata": {},
   "source": [
    "### Image Augumentation"
   ]
  },
  {
   "cell_type": "markdown",
   "metadata": {},
   "source": [
    "In this project I've decided to use image augumentation in order to solve 2 problems:\n",
    "1. Small amount of train data\n",
    "2. Class disbalance\n",
    "\n",
    "To solve class disbalance, we need to check class balance in train set"
   ]
  },
  {
   "cell_type": "code",
   "execution_count": 12,
   "metadata": {},
   "outputs": [
    {
     "data": {
      "text/plain": [
       "emotion\n",
       "3    0.248569\n",
       "4    0.172860\n",
       "5    0.171333\n",
       "2    0.142361\n",
       "0    0.138545\n",
       "6    0.111204\n",
       "1    0.015128\n",
       "Name: count, dtype: float64"
      ]
     },
     "execution_count": 12,
     "metadata": {},
     "output_type": "execute_result"
    }
   ],
   "source": [
    "train_df[\"emotion\"].value_counts() / train_df.shape[0]"
   ]
  },
  {
   "cell_type": "markdown",
   "metadata": {},
   "source": [
    "I want to augment the training dataset so that I have 10000 images of each emotion. Before applying image augmentation, I need to know how many times I need to apply it to solve the class imbalance problem. So, let's calculate this. I will round the calculated value so that they are natural numbers, and after applying it, I will remove some extra examples to have the same number of exemplars of each class"
   ]
  },
  {
   "cell_type": "code",
   "execution_count": 13,
   "metadata": {},
   "outputs": [
    {
     "data": {
      "text/plain": [
       "emotion\n",
       "3     2\n",
       "4     3\n",
       "5     3\n",
       "2     3\n",
       "0     3\n",
       "6     4\n",
       "1    23\n",
       "Name: count, dtype: int64"
      ]
     },
     "execution_count": 13,
     "metadata": {},
     "output_type": "execute_result"
    }
   ],
   "source": [
    "from math import ceil\n",
    "\n",
    "(10000 / train_df[\"emotion\"].value_counts()).apply(lambda x : ceil(x))"
   ]
  },
  {
   "cell_type": "code",
   "execution_count": 14,
   "metadata": {},
   "outputs": [],
   "source": [
    "train_df[\"emotion\"] = train_df[\"emotion\"].astype(int)"
   ]
  },
  {
   "cell_type": "code",
   "execution_count": 21,
   "metadata": {},
   "outputs": [],
   "source": [
    "from keras.preprocessing.image import ImageDataGenerator\n",
    "\n",
    "\n",
    "augumentaion_generator = ImageDataGenerator(rotation_range=10, width_shift_range=0.1, height_shift_range=0.1, horizontal_flip=True)\n",
    "\n",
    "def augumentation(image, generator):\n",
    "    image = image.reshape((1, image.shape[0], image.shape[1], image.shape[2]))\n",
    "    image_augumented = generator.flow(image).next()[0]\n",
    "    return image_augumented\n",
    "\n",
    "\n",
    "class_ratios = (20000 / train_df[\"emotion\"].value_counts()).apply(lambda x : ceil(x))\n",
    "\n",
    "emotion_map = dict()\n",
    "\n",
    "for emotion in range(0, 7):\n",
    "    emotion_map[emotion] = train_df[train_df[\"emotion\"] == emotion]\n",
    "\n",
    "\n",
    "augumented_emotion_map = dict()\n",
    "\n",
    "for emotion in range(0, 7):\n",
    "    augumented_images = pd.DataFrame()\n",
    "    for _ in range(class_ratios[emotion]):\n",
    "        temp = emotion_map[emotion].copy()\n",
    "        temp[\"image_array\"] = temp[\"image_array\"].apply(lambda x : augumentation(x, augumentaion_generator))\n",
    "        augumented_images = pd.concat([augumented_images, temp], axis=\"rows\")\n",
    "    \n",
    "    augumented_emotion_map[emotion] = augumented_images\n",
    "        \n"
   ]
  },
  {
   "cell_type": "code",
   "execution_count": 22,
   "metadata": {},
   "outputs": [
    {
     "data": {
      "text/plain": [
       "emotion\n",
       "0    20000\n",
       "1    20000\n",
       "2    20000\n",
       "3    20000\n",
       "4    20000\n",
       "5    20000\n",
       "6    20000\n",
       "Name: count, dtype: int64"
      ]
     },
     "execution_count": 22,
     "metadata": {},
     "output_type": "execute_result"
    }
   ],
   "source": [
    "augumented_train = pd.DataFrame()\n",
    "\n",
    "for emotion in range(0, 7):\n",
    "    augumented_train = pd.concat([augumented_train, augumented_emotion_map[emotion].sample(20000)], axis=\"rows\")\n",
    "    \n",
    "augumented_train[\"emotion\"].value_counts()\n",
    "    "
   ]
  },
  {
   "cell_type": "markdown",
   "metadata": {},
   "source": [
    "### Building NN Architecture"
   ]
  },
  {
   "cell_type": "code",
   "execution_count": 23,
   "metadata": {},
   "outputs": [
    {
     "name": "stdout",
     "output_type": "stream",
     "text": [
      "Model: \"sequential_1\"\n",
      "_________________________________________________________________\n",
      " Layer (type)                Output Shape              Param #   \n",
      "=================================================================\n",
      " conv2d_4 (Conv2D)           (None, 47, 47, 64)        832       \n",
      "                                                                 \n",
      " batch_normalization_4 (Batc  (None, 47, 47, 64)       256       \n",
      " hNormalization)                                                 \n",
      "                                                                 \n",
      " max_pooling2d_4 (MaxPooling  (None, 23, 23, 64)       0         \n",
      " 2D)                                                             \n",
      "                                                                 \n",
      " activation_4 (Activation)   (None, 23, 23, 64)        0         \n",
      "                                                                 \n",
      " dropout_6 (Dropout)         (None, 23, 23, 64)        0         \n",
      "                                                                 \n",
      " conv2d_5 (Conv2D)           (None, 22, 22, 128)       32896     \n",
      "                                                                 \n",
      " batch_normalization_5 (Batc  (None, 22, 22, 128)      512       \n",
      " hNormalization)                                                 \n",
      "                                                                 \n",
      " max_pooling2d_5 (MaxPooling  (None, 11, 11, 128)      0         \n",
      " 2D)                                                             \n",
      "                                                                 \n",
      " activation_5 (Activation)   (None, 11, 11, 128)       0         \n",
      "                                                                 \n",
      " dropout_7 (Dropout)         (None, 11, 11, 128)       0         \n",
      "                                                                 \n",
      " conv2d_6 (Conv2D)           (None, 9, 9, 256)         295168    \n",
      "                                                                 \n",
      " batch_normalization_6 (Batc  (None, 9, 9, 256)        1024      \n",
      " hNormalization)                                                 \n",
      "                                                                 \n",
      " max_pooling2d_6 (MaxPooling  (None, 4, 4, 256)        0         \n",
      " 2D)                                                             \n",
      "                                                                 \n",
      " activation_6 (Activation)   (None, 4, 4, 256)         0         \n",
      "                                                                 \n",
      " dropout_8 (Dropout)         (None, 4, 4, 256)         0         \n",
      "                                                                 \n",
      " conv2d_7 (Conv2D)           (None, 2, 2, 512)         1180160   \n",
      "                                                                 \n",
      " batch_normalization_7 (Batc  (None, 2, 2, 512)        2048      \n",
      " hNormalization)                                                 \n",
      "                                                                 \n",
      " max_pooling2d_7 (MaxPooling  (None, 1, 1, 512)        0         \n",
      " 2D)                                                             \n",
      "                                                                 \n",
      " activation_7 (Activation)   (None, 1, 1, 512)         0         \n",
      "                                                                 \n",
      " dropout_9 (Dropout)         (None, 1, 1, 512)         0         \n",
      "                                                                 \n",
      " flatten_1 (Flatten)         (None, 512)               0         \n",
      "                                                                 \n",
      " dense_3 (Dense)             (None, 1024)              525312    \n",
      "                                                                 \n",
      " dropout_10 (Dropout)        (None, 1024)              0         \n",
      "                                                                 \n",
      " dense_4 (Dense)             (None, 256)               262400    \n",
      "                                                                 \n",
      " dropout_11 (Dropout)        (None, 256)               0         \n",
      "                                                                 \n",
      " dense_5 (Dense)             (None, 7)                 1799      \n",
      "                                                                 \n",
      "=================================================================\n",
      "Total params: 2,302,407\n",
      "Trainable params: 2,300,487\n",
      "Non-trainable params: 1,920\n",
      "_________________________________________________________________\n"
     ]
    }
   ],
   "source": [
    "from keras.layers import Flatten, Dense, Dropout, BatchNormalization, Input, Conv2D, MaxPool2D, Activation\n",
    "from keras.models import Sequential\n",
    "from keras.optimizers import Adam\n",
    "from keras.applications.resnet import ResNet101\n",
    "from keras.regularizers import l2\n",
    "\n",
    "model = Sequential()\n",
    "\n",
    "#Input \n",
    "model.add(Input(shape=(48, 48, 3)))\n",
    "\n",
    "model.add(Conv2D(filters=64, kernel_size=(2, 2)))\n",
    "model.add(BatchNormalization())\n",
    "model.add(MaxPool2D())\n",
    "model.add(Activation(\"relu\"))\n",
    "model.add(Dropout(rate=0.2))\n",
    "\n",
    "model.add(Conv2D(filters=128, kernel_size=(2, 2)))\n",
    "model.add(BatchNormalization())\n",
    "model.add(MaxPool2D())\n",
    "model.add(Activation(\"relu\"))\n",
    "model.add(Dropout(rate=0.2))\n",
    "\n",
    "model.add(Conv2D(filters=256, kernel_size=(3, 3)))\n",
    "model.add(BatchNormalization())\n",
    "model.add(MaxPool2D())\n",
    "model.add(Activation(\"relu\"))\n",
    "model.add(Dropout(rate=0.2))\n",
    "\n",
    "model.add(Conv2D(filters=512, kernel_size=(3, 3)))\n",
    "model.add(BatchNormalization())\n",
    "model.add(MaxPool2D())\n",
    "model.add(Activation(\"relu\"))\n",
    "model.add(Dropout(rate=0.2))\n",
    "\n",
    "model.add(Flatten())\n",
    "\n",
    "model.add(Dense(1024, activation=\"relu\"))\n",
    "model.add(Dropout(rate=0.2))\n",
    "\n",
    "\n",
    "model.add(Dense(256, activation=\"relu\"))\n",
    "model.add(Dropout(rate=0.2))\n",
    "model.add(Dense(7, activation=\"softmax\"))\n",
    "\n",
    "model.compile(optimizer=Adam(0.0001), loss=\"categorical_crossentropy\", metrics=[\"accuracy\"])\n",
    "\n",
    "model.summary()"
   ]
  },
  {
   "cell_type": "markdown",
   "metadata": {},
   "source": [
    "### Model Training"
   ]
  },
  {
   "cell_type": "code",
   "execution_count": 24,
   "metadata": {},
   "outputs": [
    {
     "name": "stdout",
     "output_type": "stream",
     "text": [
      "Epoch 1/100\n",
      "4375/4375 [==============================] - 102s 22ms/step - loss: 1.7601 - accuracy: 0.3004 - val_loss: 1.6216 - val_accuracy: 0.4007 - lr: 1.0000e-04\n",
      "Epoch 2/100\n",
      "4375/4375 [==============================] - 88s 20ms/step - loss: 1.4703 - accuracy: 0.4392 - val_loss: 1.4475 - val_accuracy: 0.4581 - lr: 1.0000e-04\n",
      "Epoch 3/100\n",
      "4375/4375 [==============================] - 82s 19ms/step - loss: 1.3380 - accuracy: 0.4943 - val_loss: 1.1836 - val_accuracy: 0.5444 - lr: 1.0000e-04\n",
      "Epoch 4/100\n",
      "4375/4375 [==============================] - 84s 19ms/step - loss: 1.2536 - accuracy: 0.5251 - val_loss: 1.2185 - val_accuracy: 0.5405 - lr: 1.0000e-04\n",
      "Epoch 5/100\n",
      "4375/4375 [==============================] - 84s 19ms/step - loss: 1.1896 - accuracy: 0.5522 - val_loss: 1.1213 - val_accuracy: 0.5767 - lr: 1.0000e-04\n",
      "Epoch 6/100\n",
      "4375/4375 [==============================] - 83s 19ms/step - loss: 1.1351 - accuracy: 0.5719 - val_loss: 1.1226 - val_accuracy: 0.5740 - lr: 1.0000e-04\n",
      "Epoch 7/100\n",
      "4375/4375 [==============================] - 88s 20ms/step - loss: 1.0908 - accuracy: 0.5859 - val_loss: 1.0961 - val_accuracy: 0.5873 - lr: 1.0000e-04\n",
      "Epoch 8/100\n",
      "4375/4375 [==============================] - 83s 19ms/step - loss: 1.0552 - accuracy: 0.6025 - val_loss: 1.1132 - val_accuracy: 0.5826 - lr: 1.0000e-04\n",
      "Epoch 9/100\n",
      "4375/4375 [==============================] - 83s 19ms/step - loss: 1.0203 - accuracy: 0.6139 - val_loss: 1.0958 - val_accuracy: 0.5933 - lr: 1.0000e-04\n",
      "Epoch 10/100\n",
      "4375/4375 [==============================] - 82s 19ms/step - loss: 0.9926 - accuracy: 0.6239 - val_loss: 1.1252 - val_accuracy: 0.5736 - lr: 1.0000e-04\n",
      "Epoch 11/100\n",
      "4375/4375 [==============================] - 83s 19ms/step - loss: 0.9633 - accuracy: 0.6349 - val_loss: 1.0714 - val_accuracy: 0.6050 - lr: 1.0000e-04\n",
      "Epoch 12/100\n",
      "4375/4375 [==============================] - 84s 19ms/step - loss: 0.9378 - accuracy: 0.6452 - val_loss: 1.0278 - val_accuracy: 0.6257 - lr: 1.0000e-04\n",
      "Epoch 13/100\n",
      "4375/4375 [==============================] - 83s 19ms/step - loss: 0.9131 - accuracy: 0.6547 - val_loss: 1.0143 - val_accuracy: 0.6302 - lr: 1.0000e-04\n",
      "Epoch 14/100\n",
      "4375/4375 [==============================] - 87s 20ms/step - loss: 0.8929 - accuracy: 0.6620 - val_loss: 1.0408 - val_accuracy: 0.6144 - lr: 1.0000e-04\n",
      "Epoch 15/100\n",
      "4375/4375 [==============================] - 84s 19ms/step - loss: 0.8735 - accuracy: 0.6698 - val_loss: 1.0658 - val_accuracy: 0.6160 - lr: 1.0000e-04\n",
      "Epoch 16/100\n",
      "4375/4375 [==============================] - 86s 20ms/step - loss: 0.8499 - accuracy: 0.6769 - val_loss: 1.0587 - val_accuracy: 0.6077 - lr: 1.0000e-04\n",
      "Epoch 17/100\n",
      "4375/4375 [==============================] - 89s 20ms/step - loss: 0.8303 - accuracy: 0.6857 - val_loss: 1.0785 - val_accuracy: 0.6169 - lr: 1.0000e-04\n",
      "Epoch 18/100\n",
      "4375/4375 [==============================] - 85s 19ms/step - loss: 0.8129 - accuracy: 0.6915 - val_loss: 1.0324 - val_accuracy: 0.6336 - lr: 1.0000e-04\n",
      "Epoch 19/100\n",
      "4375/4375 [==============================] - 83s 19ms/step - loss: 0.7638 - accuracy: 0.7098 - val_loss: 1.0145 - val_accuracy: 0.6377 - lr: 1.0000e-05\n",
      "Epoch 20/100\n",
      "4375/4375 [==============================] - 88s 20ms/step - loss: 0.7509 - accuracy: 0.7145 - val_loss: 1.0227 - val_accuracy: 0.6374 - lr: 1.0000e-05\n",
      "Epoch 21/100\n",
      "4375/4375 [==============================] - 84s 19ms/step - loss: 0.7420 - accuracy: 0.7205 - val_loss: 1.0145 - val_accuracy: 0.6386 - lr: 1.0000e-05\n",
      "Epoch 22/100\n",
      "4375/4375 [==============================] - 84s 19ms/step - loss: 0.7362 - accuracy: 0.7211 - val_loss: 1.0151 - val_accuracy: 0.6417 - lr: 1.0000e-05\n",
      "Epoch 23/100\n",
      "4375/4375 [==============================] - 85s 19ms/step - loss: 0.7348 - accuracy: 0.7227 - val_loss: 1.0232 - val_accuracy: 0.6370 - lr: 1.0000e-05\n"
     ]
    },
    {
     "data": {
      "text/plain": [
       "[<matplotlib.lines.Line2D at 0x23903263610>]"
      ]
     },
     "execution_count": 24,
     "metadata": {},
     "output_type": "execute_result"
    },
    {
     "data": {
      "image/png": "[encoded data removed]",
      "text/plain": [
       "<Figure size 640x480 with 1 Axes>"
      ]
     },
     "metadata": {},
     "output_type": "display_data"
    }
   ],
   "source": [
    "from keras.callbacks import EarlyStopping, ReduceLROnPlateau\n",
    "from keras.utils import to_categorical\n",
    "from keras.preprocessing.image import ImageDataGenerator\n",
    "\n",
    "train_generator = ImageDataGenerator(rescale=1/255.)\n",
    "test_generator = ImageDataGenerator(rescale=1/255.)\n",
    "\n",
    "train_images = np.stack(augumented_train[\"image_array\"].values)\n",
    "train_labels = augumented_train[\"emotion\"].values\n",
    "\n",
    "test_images = np.stack(test_df[\"image_array\"].values)\n",
    "test_labels = test_df[\"emotion\"].values\n",
    "\n",
    "train_labels = to_categorical(train_labels, num_classes=7)\n",
    "test_labels = to_categorical(test_labels, num_classes=7)\n",
    "\n",
    "early_stopping = EarlyStopping(patience=10, restore_best_weights=True)\n",
    "reduce_lr = ReduceLROnPlateau(patience=5, factor=0.1)\n",
    "\n",
    "hitsory = model.fit(train_generator.flow(train_images, train_labels, batch_size=32),\n",
    "          validation_data=test_generator.flow(test_images, test_labels, batch_size=32),\n",
    "          epochs=100, callbacks=[early_stopping, reduce_lr])\n",
    "\n",
    "temp = pd.DataFrame(hitsory.history).reset_index()\n",
    "\n",
    "plt.plot(temp[\"index\"], temp[\"loss\"])\n",
    "plt.plot(temp[\"index\"], temp[\"val_loss\"])\n"
   ]
  },
  {
   "cell_type": "code",
   "execution_count": 34,
   "metadata": {},
   "outputs": [],
   "source": [
    "from keras.models import save_model\n",
    "\n",
    "save_model(model, \"model0_64va.h5\")"
   ]
  },
  {
   "cell_type": "markdown",
   "metadata": {},
   "source": [
    "## Merging with OpenCV and Results"
   ]
  },
  {
   "cell_type": "markdown",
   "metadata": {},
   "source": [
    "#### Model import and prediction parses"
   ]
  },
  {
   "cell_type": "code",
   "execution_count": 35,
   "metadata": {},
   "outputs": [],
   "source": [
    "from keras.models import save_model, load_model\n",
    "import numpy as np\n",
    "\n",
    "model = load_model(\"model0_64va.h5\")\n",
    "\n",
    "def parce_predictions(x : np.array):\n",
    "    emotion_map_reversed = {0 : \"angry\", 1 : \"disgust\" , 2 : \"fear\" , 3 : \"happy\", 4 : \"neutral\", 5 : \"sad\" , 6 : \"surprise\"}\n",
    "    emotion = x.argmax()\n",
    "    return emotion_map_reversed[emotion]"
   ]
  },
  {
   "cell_type": "markdown",
   "metadata": {},
   "source": [
    "#### Important Defininitions"
   ]
  },
  {
   "cell_type": "code",
   "execution_count": 36,
   "metadata": {},
   "outputs": [],
   "source": [
    "import cv2\n",
    "import sys\n",
    "from keras.utils.image_utils import array_to_img, img_to_array\n",
    "import numpy as np\n",
    "\n",
    "cascPath = \"haarcascade_frontalface_default.xml\"\n",
    "temp = None\n",
    "crop = None\n",
    "\n",
    "window_name = 'Image'\n",
    "font = cv2.FONT_HERSHEY_SIMPLEX \n",
    "org = (50, 50) \n",
    "fontScale = 1\n",
    "color = (255, 0, 0) \n",
    "thickness = 2\n",
    "\n",
    "\n",
    "faceCascade = cv2.CascadeClassifier(cascPath)\n",
    "video_capture = cv2.VideoCapture(0)\n",
    "\n",
    "while True:\n",
    "    \n",
    "    ret, frame = video_capture.read()\n",
    "\n",
    "    gray = cv2.cvtColor(frame, cv2.COLOR_BGR2GRAY)\n",
    "\t\n",
    "    faces = faceCascade.detectMultiScale(\n",
    "        gray,\n",
    "        scaleFactor=1.1,\n",
    "        minNeighbors=5,\n",
    "        minSize=(30, 30),\n",
    "        flags=cv2.CASCADE_SCALE_IMAGE\n",
    "    )\n",
    "    \n",
    "    text = None\n",
    " \n",
    "    for (x, y, w, h) in faces:\n",
    "        cv2.rectangle(frame, (x, y), (x+w, y+h), (0, 255, 0), 2)\n",
    "        crop = (x, w, y, h)\n",
    "        face_image = gray[y:y+h, x:x+w]\n",
    "\n",
    "        face_image = face_image[..., np.newaxis]\n",
    "\n",
    "        image = img_to_array(array_to_img(face_image).resize((48, 48)))\n",
    "        image = np.repeat(image, 3, axis=2)\n",
    "\n",
    "        image = image.reshape((1, image.shape[0], image.shape[1], image.shape[2]))\n",
    "\t\n",
    "        text = parce_predictions(model.predict(image, verbose=0))\n",
    "    \n",
    "    frame = cv2.putText(frame, text, org, font,  \n",
    "                   fontScale, color, thickness, cv2.LINE_AA)\n",
    "    cv2.imshow('Video', frame)\n",
    "    temp = frame\n",
    "\n",
    "    if cv2.waitKey(1) & 0xFF == ord('q'):\n",
    "        break\n",
    "\n",
    "video_capture.release()\n",
    "cv2.destroyAllWindows()"
   ]
  },
  {
   "cell_type": "markdown",
   "metadata": {},
   "source": [
    "### Summary"
   ]
  },
  {
   "cell_type": "markdown",
   "metadata": {},
   "source": [
    "In that version of project I've achieved 64 validation accuracy"
   ]
  }
 ],
 "metadata": {
  "kernelspec": {
   "display_name": ".venv",
   "language": "python",
   "name": "python3"
  },
  "language_info": {
   "codemirror_mode": {
    "name": "ipython",
    "version": 3
   },
   "file_extension": ".py",
   "mimetype": "text/x-python",
   "name": "python",
   "nbconvert_exporter": "python",
   "pygments_lexer": "ipython3",
   "version": "3.8.10"
  }
 },
 "nbformat": 4,
 "nbformat_minor": 2
}
